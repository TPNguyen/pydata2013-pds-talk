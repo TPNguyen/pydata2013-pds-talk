{
 "metadata": {
  "name": ""
 },
 "nbformat": 3,
 "nbformat_minor": 0,
 "worksheets": [
  {
   "cells": [
    {
     "cell_type": "markdown",
     "metadata": {},
     "source": [
      "HyperLogLog\n",
      "==========="
     ]
    },
    {
     "cell_type": "markdown",
     "metadata": {},
     "source": [
      "The following post (http://blog.aggregateknowledge.com/2012/10/25/sketch-of-the-day-hyperloglog-cornerstone-of-a-big-data-infrastructure/) gives a good overview of the method. In fact, the whole blog is a very useful source of information regarding various aspects of the HLL method. I will not repeat this excellents tutorial here. \n",
      "\n",
      "HyperLogLog [2] can be difficult to reverse-engineer because it's highly optimized, but the basic idea behind this method is in fact the same as the LogLog and SuperLogLog. The idea is essentially to estimate the number of element in the set by counting the longest run of zero in the *bit pattern of the hash*. The cardinality can be estima using the \u201clog n law\u201d which is the probability distribution of the Longest Run in the coin tossing experiment: If I flip a coin n time, what is the probability P to have the Rn consecutive heads ?\n",
      "\n",
      "The exact solution of this problem can be express as a recursive solution which is not really pratical. However, if n is high, we can estimate Rn (expected) as [1]:\n",
      "\n",
      "$$ R_n \\approx log_{1/p} (nq) $$\n",
      "\n",
      "[1] Schilling, Mark F. \"The Surprising Predictability of Long Runs.\" Mathematics Magazine 85.2 (2012): 141-149.\n",
      "\n",
      "[2] Flajolet, Philippe, et al. \"HyperLogLog: the analysis of a near-optimal cardinality estimation algorithm.\" 2007 Conference on Analysis of Algorithms, AofA. Vol. 7. 2007."
     ]
    },
    {
     "cell_type": "code",
     "collapsed": false,
     "input": [
      "import pandas as pd"
     ],
     "language": "python",
     "metadata": {},
     "outputs": [],
     "prompt_number": 21
    },
    {
     "cell_type": "code",
     "collapsed": false,
     "input": [
      "import random"
     ],
     "language": "python",
     "metadata": {},
     "outputs": [],
     "prompt_number": 22
    },
    {
     "cell_type": "code",
     "collapsed": false,
     "input": [
      "from hashlib import sha1"
     ],
     "language": "python",
     "metadata": {},
     "outputs": [],
     "prompt_number": 23
    },
    {
     "cell_type": "code",
     "collapsed": false,
     "input": [
      "import numpy as np\n",
      "import scipy.stats"
     ],
     "language": "python",
     "metadata": {},
     "outputs": [],
     "prompt_number": 24
    },
    {
     "cell_type": "code",
     "collapsed": false,
     "input": [
      "import matplotlib.pyplot as plt"
     ],
     "language": "python",
     "metadata": {},
     "outputs": [],
     "prompt_number": 25
    },
    {
     "cell_type": "markdown",
     "metadata": {},
     "source": [
      "For example, for the following value of n, the expected $R_n$ are:"
     ]
    },
    {
     "cell_type": "code",
     "collapsed": false,
     "input": [
      "ns = [50,200,1000,1E4,1E5,1E6]"
     ],
     "language": "python",
     "metadata": {},
     "outputs": [],
     "prompt_number": 26
    },
    {
     "cell_type": "code",
     "collapsed": false,
     "input": [
      "def Rn(n,q):\n",
      "    return int(round(np.log2(n*q)))"
     ],
     "language": "python",
     "metadata": {},
     "outputs": [],
     "prompt_number": 27
    },
    {
     "cell_type": "code",
     "collapsed": false,
     "input": [
      "Rns = [Rn(n,0.5) for n in ns]"
     ],
     "language": "python",
     "metadata": {},
     "outputs": [],
     "prompt_number": 28
    },
    {
     "cell_type": "code",
     "collapsed": false,
     "input": [
      "Rns"
     ],
     "language": "python",
     "metadata": {},
     "outputs": [
      {
       "metadata": {},
       "output_type": "pyout",
       "prompt_number": 29,
       "text": [
        "[5, 7, 9, 12, 16, 19]"
       ]
      }
     ],
     "prompt_number": 29
    },
    {
     "cell_type": "markdown",
     "metadata": {},
     "source": [
      "We can have an approximation of the distribution by using an *extreme value distribution* (eq 2, for ref [1]):"
     ]
    },
    {
     "cell_type": "code",
     "collapsed": false,
     "input": [
      "def prob_longest(a, b, n, p):\n",
      "    r = Rn(n,1-p)\n",
      "    cdf = lambda x: np.exp(- p**x )\n",
      "    return cdf(b + 1 - r) - cdf(a - r)"
     ],
     "language": "python",
     "metadata": {},
     "outputs": [],
     "prompt_number": 30
    },
    {
     "cell_type": "markdown",
     "metadata": {},
     "source": [
      "For example, for 1000 coin flips (n=1000, p=0.5 for a fair coin), the probability of having a longest run of 10 is 27%:"
     ]
    },
    {
     "cell_type": "code",
     "collapsed": false,
     "input": [
      "prob_longest(10,11,1000,0.5)"
     ],
     "language": "python",
     "metadata": {},
     "outputs": [
      {
       "metadata": {},
       "output_type": "pyout",
       "prompt_number": 31,
       "text": [
        "0.27596624287196203"
       ]
      }
     ],
     "prompt_number": 31
    },
    {
     "cell_type": "markdown",
     "metadata": {},
     "source": [
      "We can plot the histogram of the distribution for n=50, n=200 and n = 100k:"
     ]
    },
    {
     "cell_type": "code",
     "collapsed": false,
     "input": [
      "ns = range(1,30)"
     ],
     "language": "python",
     "metadata": {},
     "outputs": [],
     "prompt_number": 32
    },
    {
     "cell_type": "code",
     "collapsed": false,
     "input": [
      "ps_50 = pd.Series([prob_longest(ns[i],ns[i+1], 50, 0.5) for i in ns[:-2]])"
     ],
     "language": "python",
     "metadata": {},
     "outputs": [],
     "prompt_number": 33
    },
    {
     "cell_type": "code",
     "collapsed": false,
     "input": [
      "ps_50.plot(kind='bar')"
     ],
     "language": "python",
     "metadata": {},
     "outputs": [
      {
       "metadata": {},
       "output_type": "pyout",
       "prompt_number": 34,
       "text": [
        "<matplotlib.axes.AxesSubplot at 0x10c248550>"
       ]
      },
      {
       "metadata": {},
       "output_type": "display_data",
       "png": "[encoded data removed]",
       "text": [
        "<matplotlib.figure.Figure at 0x10c244c10>"
       ]
      }
     ],
     "prompt_number": 34
    },
    {
     "cell_type": "code",
     "collapsed": false,
     "input": [
      "ps_200 = pd.Series([prob_longest(ns[i],ns[i+1], 200, 0.5) for i in ns[:-2]])"
     ],
     "language": "python",
     "metadata": {},
     "outputs": [],
     "prompt_number": 35
    },
    {
     "cell_type": "code",
     "collapsed": false,
     "input": [
      "ps_200.plot(kind='bar')"
     ],
     "language": "python",
     "metadata": {},
     "outputs": [
      {
       "metadata": {},
       "output_type": "pyout",
       "prompt_number": 36,
       "text": [
        "<matplotlib.axes.AxesSubplot at 0x10c313450>"
       ]
      },
      {
       "metadata": {},
       "output_type": "display_data",
       "png": "[encoded data removed]",
       "text": [
        "<matplotlib.figure.Figure at 0x10c19dfd0>"
       ]
      }
     ],
     "prompt_number": 36
    },
    {
     "cell_type": "code",
     "collapsed": false,
     "input": [
      "ps_100k = pd.Series([prob_longest(ns[i],ns[i+1], 1E6, 0.5) for i in ns[:-2]])"
     ],
     "language": "python",
     "metadata": {},
     "outputs": [],
     "prompt_number": 37
    },
    {
     "cell_type": "code",
     "collapsed": false,
     "input": [
      "ps_100k.plot(kind='bar')"
     ],
     "language": "python",
     "metadata": {},
     "outputs": [
      {
       "metadata": {},
       "output_type": "pyout",
       "prompt_number": 38,
       "text": [
        "<matplotlib.axes.AxesSubplot at 0x10c261990>"
       ]
      },
      {
       "metadata": {},
       "output_type": "display_data",
       "png": "[encoded data removed]",
       "text": [
        "<matplotlib.figure.Figure at 0x10c31cf10>"
       ]
      }
     ],
     "prompt_number": 38
    },
    {
     "cell_type": "markdown",
     "metadata": {},
     "source": [
      "We can show that the length of the longest run shift towards larger value at a rate $\\propto$ log(x)"
     ]
    },
    {
     "cell_type": "markdown",
     "metadata": {},
     "source": [
      "By looking at the longuest run we can now estimate n simply using $n\\approx (1/q) \\cdot {2^{R_n}}$. The idea behind the LogLog methods is precisly that. A randomization of the input stream is done using a hash function and we observe the number of leading zero of the bit pattern. We can implemente a very naive probabilistic counter using this idea. The first step is to define the hash function:"
     ]
    },
    {
     "cell_type": "code",
     "collapsed": false,
     "input": [
      "def sha1_to_bin(word):\n",
      "    hash_s = sha1()\n",
      "    hash_s.update(word)\n",
      "    return bin(long(hash_s.hexdigest(),16))[2:].zfill(160)\n"
     ],
     "language": "python",
     "metadata": {},
     "outputs": [],
     "prompt_number": 39
    },
    {
     "cell_type": "markdown",
     "metadata": {},
     "source": [
      "And a function returning the number of leading zero in the hash:"
     ]
    },
    {
     "cell_type": "code",
     "collapsed": false,
     "input": [
      "def leadingzero(binString,endIndex=160):\n",
      "    res = -1\n",
      "    try:\n",
      "        res = binString.index('1')+1\n",
      "    except(ValueError):\n",
      "        res = endIndex\n",
      "    return res-1\n"
     ],
     "language": "python",
     "metadata": {},
     "outputs": [],
     "prompt_number": 40
    },
    {
     "cell_type": "markdown",
     "metadata": {},
     "source": [
      "Now we can build a basic counter that will keep track of the max value of the leading zero in the hash (Rn). The cardinality is simply estimated by using the equation giving previously."
     ]
    },
    {
     "cell_type": "code",
     "collapsed": false,
     "input": [
      "class FlippingCoinCounter(object):\n",
      "    \n",
      "    def __init__(self):\n",
      "        self.maxRn = 0\n",
      "    \n",
      "    def add(self, value):\n",
      "        binword = sha1_to_bin(value)\n",
      "        lr = leadingzero(binword)\n",
      "        self.maxRn = max([self.maxRn, lr])\n",
      "\n",
      "    def estimate(self):\n",
      "        return 2.0 * pow(2,self.maxRn)"
     ],
     "language": "python",
     "metadata": {},
     "outputs": [],
     "prompt_number": 41
    },
    {
     "cell_type": "code",
     "collapsed": false,
     "input": [
      "nc = FlippingCoinCounter()"
     ],
     "language": "python",
     "metadata": {},
     "outputs": [],
     "prompt_number": 42
    },
    {
     "cell_type": "code",
     "collapsed": false,
     "input": [
      "for i in range(5000):\n",
      "    nc.add(str(random.randint(0,1E6)))"
     ],
     "language": "python",
     "metadata": {},
     "outputs": [],
     "prompt_number": 43
    },
    {
     "cell_type": "code",
     "collapsed": false,
     "input": [
      "nc.estimate()"
     ],
     "language": "python",
     "metadata": {},
     "outputs": [
      {
       "metadata": {},
       "output_type": "pyout",
       "prompt_number": 44,
       "text": [
        "16384.0"
       ]
      }
     ],
     "prompt_number": 44
    },
    {
     "cell_type": "markdown",
     "metadata": {},
     "source": [
      "Now it's pretty clear that the variability of this naive method is huge. A simple way to remedy to the situation is to average Rm:"
     ]
    },
    {
     "cell_type": "code",
     "collapsed": false,
     "input": [
      "longestruns = []"
     ],
     "language": "python",
     "metadata": {},
     "outputs": [],
     "prompt_number": 51
    },
    {
     "cell_type": "code",
     "collapsed": false,
     "input": [
      "for trial in range(1000):\n",
      "    nc = FlippingCoinCounter()\n",
      "    for i in range(100):\n",
      "        nc.add(str(random.randint(0,1E6)))\n",
      "    longestruns.append(nc.maxRn)"
     ],
     "language": "python",
     "metadata": {},
     "outputs": [],
     "prompt_number": 52
    },
    {
     "cell_type": "code",
     "collapsed": false,
     "input": [
      "np.mean(longestruns)-1"
     ],
     "language": "python",
     "metadata": {},
     "outputs": [
      {
       "metadata": {},
       "output_type": "pyout",
       "prompt_number": 53,
       "text": [
        "5.9690000000000003"
       ]
      }
     ],
     "prompt_number": 53
    },
    {
     "cell_type": "code",
     "collapsed": false,
     "input": [
      "print pow(2, np.mean(longestruns))"
     ],
     "language": "python",
     "metadata": {},
     "outputs": [
      {
       "output_type": "stream",
       "stream": "stdout",
       "text": [
        "125.278931251\n"
       ]
      }
     ],
     "prompt_number": 54
    },
    {
     "cell_type": "markdown",
     "metadata": {},
     "source": [
      "With the harmonic mean:"
     ]
    },
    {
     "cell_type": "code",
     "collapsed": false,
     "input": [
      "scipy.stats.hmean(longestruns)"
     ],
     "language": "python",
     "metadata": {},
     "outputs": [
      {
       "metadata": {},
       "output_type": "pyout",
       "prompt_number": 55,
       "text": [
        "6.5264394963688215"
       ]
      }
     ],
     "prompt_number": 55
    },
    {
     "cell_type": "code",
     "collapsed": false,
     "input": [
      "print pow(2, scipy.stats.hmean(longestruns))"
     ],
     "language": "python",
     "metadata": {},
     "outputs": [
      {
       "output_type": "stream",
       "stream": "stdout",
       "text": [
        "92.1836825457\n"
       ]
      }
     ],
     "prompt_number": 56
    },
    {
     "cell_type": "markdown",
     "metadata": {},
     "source": [
      "A more pratical way of averaging Rm on real data is to use *multiple hash function* of the same input data. An other method, used by the HyperLoglog, is to use *stochastic averaging* [3] which consist in spliting the hash binary representation into multiple bucket and average the result of the multiple estimation. "
     ]
    },
    {
     "cell_type": "markdown",
     "metadata": {},
     "source": [
      "In fact, the stochastic averaging used in HyperLogLog is even more optimized. Instead of explicitly split the hash, averaging the longest run and assign it to maxRm, we can create an array of $m$ maxRm and assign the longest run to a random one. A cheap way to randomize the assignation is to pick the first $p$ bits of the hash (where $m=2^p$) and use it as an index. For example if the first bits are \"1000\", we assign the value to the register 8. The leading zero are measure in the remaining part of the hash. This process have a very similar effect of a straight averaging (see p196 of [3]).  The js demo here http://www.aggregateknowledge.com/science/blog/hll.html show this process.\n",
      "\n",
      "[3] Flajolet, Philippe, and G. Nigel Martin. \"Probabilistic counting algorithms for data base applications.\" Journal of computer and system sciences 31.2 (1985): 182-209.\n",
      "\n",
      "Finally, for the cardinality estimation, a corrected harmonic mean of the $2^{Rm}$ values of is used instead of the simple avegerage which is:\n",
      "\n",
      "$$E := \\alpha_m \\cdot m^2 \\cdot \\left( \\sum_{j=1}^m 2^{-Rns[i]} \\right) ^ {-1}$$\n",
      "\n",
      "The constant $\\alpha_m$ is a contant that can be tweak with the number of *bucket* (m). The precise values of this constant is provide in original article."
     ]
    },
    {
     "cell_type": "markdown",
     "metadata": {},
     "source": [
      "The LogLog methods can approximate the cardinality using only $Log_2Log_2n + O(1)$ bits"
     ]
    },
    {
     "cell_type": "markdown",
     "metadata": {},
     "source": []
    },
    {
     "cell_type": "code",
     "collapsed": false,
     "input": [],
     "language": "python",
     "metadata": {},
     "outputs": [],
     "prompt_number": 28
    }
   ],
   "metadata": {}
  }
 ]
}