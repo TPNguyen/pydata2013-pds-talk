{
 "metadata": {
  "name": ""
 },
 "nbformat": 3,
 "nbformat_minor": 0,
 "worksheets": [
  {
   "cells": [
    {
     "cell_type": "markdown",
     "metadata": {
      "slideshow": {
       "slide_type": "slide"
      }
     },
     "source": [
      "<h1 align=\"center\">Probabilistic Data Structures for Realtime Analytics</h1>\n",
      "\n",
      "<center><img src=\"files/parsely.png\" width=\"200\"></center>"
     ]
    },
    {
     "cell_type": "markdown",
     "metadata": {},
     "source": [
      "# About me\n",
      " * My name is Martin Laprise (@mlaprise)\n",
      " * Algorithms Lead @ Parse.ly\n",
      " * Discovered Parse.ly @ PyData 2012 !"
     ]
    },
    {
     "cell_type": "markdown",
     "metadata": {
      "slideshow": {
       "slide_type": "slide"
      }
     },
     "source": [
      "# Parse.ly\n",
      "\n",
      "* Parse.ly --> analytics company\n",
      "* Dash is a analytics dashboard for big news providers\n",
      "    - The Atlantic, Mashable, Arstechnica\n",
      "    - etc.\n",
      "* Multiple realtime metrics\n",
      "    - PVs\n",
      "    - Uniques\n",
      "    - Social\n",
      "    - etc.\n",
      "* Content Analysis on the publisher content\n",
      "* Recommendation API\n"
     ]
    },
    {
     "cell_type": "markdown",
     "metadata": {
      "slideshow": {
       "slide_type": "slide"
      }
     },
     "source": [
      "# Parse.ly as a stream processor\n",
      "\n",
      "* Input: Stream of events from all our publishers (js code)\n",
      "* Output: Insighful metrics and analysis\n",
      "<center><img src=\"files/parsely_blackbox.jpg\"></center>"
     ]
    },
    {
     "cell_type": "markdown",
     "metadata": {
      "slideshow": {
       "slide_type": "slide"
      }
     },
     "source": [
      "# Data Stream Model\n",
      "\n",
      "* All this with those constraints:\n",
      "    - Computed \"on the fly\" (realtime-ish)\n",
      "    - Sequential order\n",
      "    - Single pass on a the data\n",
      "    - Can't iterate over the entire dataset\n",
      "* Probabilitics data structure are very useful in this context\n",
      "* Data Stream Model\n",
      "    - Necessary even if you're not realtime (scalability)"
     ]
    },
    {
     "cell_type": "markdown",
     "metadata": {
      "slideshow": {
       "slide_type": "slide"
      }
     },
     "source": [
      "# Probabilitics data structure\n",
      "\n",
      "* No Uber-Datastructure, pick the right one.\n",
      "* more actionable to know a bunch of them\n",
      "* Overview of:\n",
      "    - Bloom Filter\n",
      "    - Temporal Bloom Filter\n",
      "    - Count-Min Sketch\n",
      "    - HyperLogLog\n",
      "* Easy to implemented... harder to understand \n",
      "* https://github.com/Parsely/python-pds.git\n"
     ]
    },
    {
     "cell_type": "markdown",
     "metadata": {},
     "source": [
      "# Pattern: Have we met before ?\n",
      "\n",
      "* Trigger an action when you see an item for the first time\n",
      "* Ex:\n",
      "    - We see an url for the first time --> Crawl the link\n",
      "    - We see a social network as a referrer --> fetch the number of share\n",
      "* Look at ALL items in the stream\n",
      "* Can't query the databases every time\n",
      "* Need to have an in-memory data structure\n",
      "    - Python Set,\n",
      "    - Set in a Redis database , etc...\n"
     ]
    },
    {
     "cell_type": "code",
     "collapsed": false,
     "input": [
      "known_urls = set()\n",
      "\n",
      "known_urls.add('http://www.google.com')\n",
      "known_urls.add('http://www.pydata.org')\n",
      "\n",
      "known_urls2 = set()\n",
      "known_urls2.add('http://www.python.org')"
     ],
     "language": "python",
     "metadata": {
      "slideshow": {
       "slide_type": "slide"
      }
     },
     "outputs": [],
     "prompt_number": 37
    },
    {
     "cell_type": "code",
     "collapsed": false,
     "input": [
      "'http://www.pydata.org' in known_urls # Membership"
     ],
     "language": "python",
     "metadata": {},
     "outputs": [
      {
       "metadata": {},
       "output_type": "pyout",
       "prompt_number": 38,
       "text": [
        "True"
       ]
      }
     ],
     "prompt_number": 38
    },
    {
     "cell_type": "code",
     "collapsed": false,
     "input": [
      "print len(known_urls) # Cardinality"
     ],
     "language": "python",
     "metadata": {},
     "outputs": [
      {
       "output_type": "stream",
       "stream": "stdout",
       "text": [
        "2\n"
       ]
      }
     ],
     "prompt_number": 39
    },
    {
     "cell_type": "code",
     "collapsed": false,
     "input": [
      "'http://www.pydata.org' in (known_urls or known_urls2) # Union"
     ],
     "language": "python",
     "metadata": {},
     "outputs": [
      {
       "metadata": {},
       "output_type": "pyout",
       "prompt_number": 40,
       "text": [
        "True"
       ]
      }
     ],
     "prompt_number": 40
    },
    {
     "cell_type": "code",
     "collapsed": false,
     "input": [
      "'http://www.pydata.org' in (known_urls and known_urls2) # Intersection"
     ],
     "language": "python",
     "metadata": {},
     "outputs": [
      {
       "metadata": {},
       "output_type": "pyout",
       "prompt_number": 41,
       "text": [
        "False"
       ]
      }
     ],
     "prompt_number": 41
    },
    {
     "cell_type": "code",
     "collapsed": false,
     "input": [
      "print known_urls # Retrieve the actual content"
     ],
     "language": "python",
     "metadata": {},
     "outputs": [
      {
       "output_type": "stream",
       "stream": "stdout",
       "text": [
        "set(['http://www.google.com', 'http://www.pydata.org'])\n"
       ]
      }
     ],
     "prompt_number": 42
    },
    {
     "cell_type": "code",
     "collapsed": false,
     "input": [
      "known_urls.discard('http://www.google.com') # Delete an element in the set"
     ],
     "language": "python",
     "metadata": {},
     "outputs": [],
     "prompt_number": 43
    },
    {
     "cell_type": "code",
     "collapsed": false,
     "input": [
      "print known_urls"
     ],
     "language": "python",
     "metadata": {},
     "outputs": [
      {
       "output_type": "stream",
       "stream": "stdout",
       "text": [
        "set(['http://www.pydata.org'])\n"
       ]
      }
     ],
     "prompt_number": 44
    },
    {
     "cell_type": "markdown",
     "metadata": {},
     "source": [
      "* Do we really need all those query ? -> Most of time : not really\n",
      "* Can I estimate some of them ?\n",
      "* pds typically built for one specific kind of query"
     ]
    },
    {
     "cell_type": "markdown",
     "metadata": {
      "slideshow": {
       "slide_type": "slide"
      }
     },
     "source": [
      "# Typical implementation on a set\n",
      "\n",
      "## Hashtable\n",
      "\n",
      "<center><img src=\"files/Hash_table_5_0_1_1_1_1_1_LL.svg.png\" width=\"500\"></center>"
     ]
    },
    {
     "cell_type": "markdown",
     "metadata": {
      "slideshow": {
       "slide_type": "subslide"
      }
     },
     "source": [
      "* HashTable:\n",
      "    - Multiple buckets\n",
      "    - Good hash function (ex: 32-bits murmur hash)\n",
      "    - Collision resolution (ex: linked list)\n",
      "    \n",
      "* Available Query:\n",
      "    - Membership\n",
      "    - Cardinality\n",
      "    - Union, Intersection\n",
      "    - Retrieve values\n",
      "    - Delete an items\n",
      "    \n",
      "    \n",
      "* **Good**:\n",
      "    - Can solve most of your problem !\n",
      "    - Speed\n",
      "    - CPU : $ M \\sim O\\left( 1 \\right) $\n",
      "    - Can retrieve data\n",
      "    - No error\n",
      "\n",
      "* **Limitation**:\n",
      "    - Memory: $ M \\sim O\\left( c \\cdot n \\cdot log(N) \\right) $"
     ]
    },
    {
     "cell_type": "code",
     "collapsed": false,
     "input": [
      "import numpy as np\n",
      "import matplotlib.pyplot as plt\n",
      "import sys,os"
     ],
     "language": "python",
     "metadata": {},
     "outputs": [],
     "prompt_number": 45
    },
    {
     "cell_type": "code",
     "collapsed": false,
     "input": [
      "capacities = np.linspace(100,int(1E9))\n",
      "typical_url = 'http://arstechnica.com/science/2013/10/new-type-of-quantum-excitation-behaves-like-a-solitary-particle/'\n",
      "memory_footprint = len(typical_url) * 8\n",
      "memory_scaling = [memory_footprint * c for c in capacities]\n",
      "\n",
      "plt.plot(capacities, [((n / (8))) / (1024 * 1024 * 1024) for n in memory_scaling])\n",
      "plt.grid()\n",
      "plt.title('Memory consumption for a set')\n",
      "plt.xlabel('Nbr. of items')\n",
      "plt.ylabel('Memory consumption in GB')"
     ],
     "language": "python",
     "metadata": {},
     "outputs": [
      {
       "metadata": {},
       "output_type": "pyout",
       "prompt_number": 46,
       "text": [
        "<matplotlib.text.Text at 0x1087230d0>"
       ]
      },
      {
       "metadata": {},
       "output_type": "display_data",
       "png": "[encoded data removed]",
       "text": [
        "<matplotlib.figure.Figure at 0x106c53f50>"
       ]
      }
     ],
     "prompt_number": 46
    },
    {
     "cell_type": "markdown",
     "metadata": {},
     "source": [
      "# Almost-correct hashtable for membership\n",
      "\n",
      "* What if we only need to do a membership query ? (no cardinality, no content)\n",
      "* We can afford some errors\n",
      "* Transform a classical hashtable to a more lightweith structure (with error):\n",
      "    - Don't store the content !"
     ]
    },
    {
     "cell_type": "code",
     "collapsed": false,
     "input": [
      "from hashfunctions import generate_hashfunctions"
     ],
     "language": "python",
     "metadata": {},
     "outputs": [],
     "prompt_number": 47
    },
    {
     "cell_type": "code",
     "collapsed": false,
     "input": [
      "class LightweightHashtable(object):\n",
      "    \"\"\" Almost-correct hashtable for membership query only \"\"\"\n",
      "\n",
      "    def __init__(self, nbr_buckets=10):\n",
      "        self.bitarray = [0] * nbr_buckets\n",
      "        self.hashfunction = generate_hashfunctions(nbr_buckets,1)\n",
      "\n",
      "    def add(self, element):\n",
      "        self.bitarray[self.hashfunction(element)[0]] = 1\n",
      "\n",
      "    def __contains__(self, element):\n",
      "        \"\"\" Membership query \"\"\"\n",
      "        return self.bitarray[self.hashfunction(element)[0]] == 1"
     ],
     "language": "python",
     "metadata": {},
     "outputs": [],
     "prompt_number": 48
    },
    {
     "cell_type": "code",
     "collapsed": false,
     "input": [
      "s = LightweightHashtable(10)\n",
      "for i in range(10):\n",
      "    s.add(str(i))"
     ],
     "language": "python",
     "metadata": {},
     "outputs": [],
     "prompt_number": 110
    },
    {
     "cell_type": "code",
     "collapsed": false,
     "input": [
      "s.bitarray"
     ],
     "language": "python",
     "metadata": {},
     "outputs": [
      {
       "metadata": {},
       "output_type": "pyout",
       "prompt_number": 111,
       "text": [
        "[1, 1, 0, 1, 1, 0, 0, 1, 1, 1]"
       ]
      }
     ],
     "prompt_number": 111
    },
    {
     "cell_type": "code",
     "collapsed": false,
     "input": [
      "'1' in s # Membership query available"
     ],
     "language": "python",
     "metadata": {},
     "outputs": [
      {
       "metadata": {},
       "output_type": "pyout",
       "prompt_number": 51,
       "text": [
        "True"
       ]
      }
     ],
     "prompt_number": 51
    },
    {
     "cell_type": "code",
     "collapsed": false,
     "input": [
      "'105' in s"
     ],
     "language": "python",
     "metadata": {},
     "outputs": [
      {
       "metadata": {},
       "output_type": "pyout",
       "prompt_number": 52,
       "text": [
        "False"
       ]
      }
     ],
     "prompt_number": 52
    },
    {
     "cell_type": "code",
     "collapsed": false,
     "input": [
      "'22' in s # False positive"
     ],
     "language": "python",
     "metadata": {},
     "outputs": [
      {
       "metadata": {},
       "output_type": "pyout",
       "prompt_number": 53,
       "text": [
        "True"
       ]
      }
     ],
     "prompt_number": 53
    },
    {
     "cell_type": "markdown",
     "metadata": {},
     "source": [
      "* False positive --> no collision resolution\n",
      "* How can we reduce the amount of false positives ?\n",
      "    - Increase the number of bits (M)\n",
      "    - Use multiple hash functions (k)\n",
      "* Lightweight hash tables with optimal k and M values -> Bloom Filter"
     ]
    },
    {
     "cell_type": "markdown",
     "metadata": {},
     "source": [
      "# Bloom Filter\n",
      "\n",
      "<center><img src=\"files/bf.png\" width=\"500\"></center>\n",
      "\n",
      "* Procedure:\n",
      "    1. We instantiate a array of bit initialized to zero\n",
      "    2. Hash the content using k hash functions\n",
      "    2. Each filter updates set the bit in the **k positions**\n",
      "    3. Membership if all bit are set"
     ]
    },
    {
     "cell_type": "markdown",
     "metadata": {},
     "source": [
      "* Classical Bloom Filter use a single bitarray with multiple hash\n",
      "* Popular variant: partitioning the M bits among the k hash functions:\n",
      "<center><img src=\"files/bf_new_variant.png\" width=\"100\"></center>"
     ]
    },
    {
     "cell_type": "markdown",
     "metadata": {},
     "source": [
      "* How many hash functions should I use  ?\n",
      "    - Using many hash should decrease error no ?\n",
      "    - Probability of error(collisation) $ \\approx $ number of 1 in the array\n",
      "    - Multiple hash is good (error rate) ... up to a point of diminishing return\n",
      "    - For a limited amount of bits: there is optimal number of hash functions\n",
      "    \n",
      "\n",
      "* In this variant the optimal numder of hashes for a specific error rate P is $ k = log_2 \\left(  \\frac{1}{P} \\right) $\n",
      "\n",
      "\n",
      "* If we want to store $n_{max}$ with a an error rate P, the optimal number of bits per slice is: $ m = \\frac{n_{max} \\cdot |ln(P)|}{k \\cdot (ln(2))^2} $\n",
      "    - Important: capacity $n_{max}$\n",
      "    - $n_{max}$ : half of the bit are 1"
     ]
    },
    {
     "cell_type": "code",
     "collapsed": false,
     "input": [
      "class BloomFilter(object):\n",
      "    \"\"\" Basic Bloom Filter \"\"\"\n",
      "\n",
      "    def __init__(self, capacity, error_rate):\n",
      "        self.error_rate = error_rate\n",
      "        self.capacity = capacity\n",
      "        self.nbr_slices = int(np.ceil(np.log2(1.0 / error_rate)))\n",
      "        self.bits_per_slice = int(np.ceil((capacity * abs(np.log(error_rate))) / (self.nbr_slices * (np.log(2) ** 2))))\n",
      "        self.nbr_bits = self.nbr_slices * self.bits_per_slice\n",
      "        self.bitarray = np.zeros(self.nbr_bits, dtype=np.bool)\n",
      "        self.count = 0\n",
      "        self.hashes = generate_hashfunctions(self.bits_per_slice, self.nbr_slices)\n",
      "        self.hashed_values = []\n",
      "\n",
      "    def __contains__(self, key):\n",
      "        \"\"\" Membership query \"\"\"\n",
      "        self.hashed_values = self.hashes(key)\n",
      "        offset = 0\n",
      "        for value in self.hashed_values:\n",
      "            if not self.bitarray[offset + value]:\n",
      "                return False\n",
      "            offset += self.bits_per_slice\n",
      "        return True\n",
      "\n",
      "    def add(self, key):\n",
      "        \"\"\" Add an item to the set \"\"\"\n",
      "        if key in self:\n",
      "            return True\n",
      "        offset = 0\n",
      "        if not self.hashed_values:\n",
      "            self.hashed_values = self.hashes(key)\n",
      "        for value in self.hashed_values:\n",
      "            self.bitarray[offset + value] = True\n",
      "            offset += self.bits_per_slice\n",
      "        self.count += 1\n",
      "        return False"
     ],
     "language": "python",
     "metadata": {},
     "outputs": [],
     "prompt_number": 54
    },
    {
     "cell_type": "code",
     "collapsed": false,
     "input": [
      "bf = BloomFilter(1000, 0.1)\n",
      "\n",
      "random_items = [str(r) for r in np.random.randn(20000)]\n",
      "for item in random_items[:1000]:\n",
      "    bf.add(item)\n",
      "    false_positive = 0\n",
      "for item in random_items[1000:20000]:\n",
      "    if item in bf:\n",
      "        false_positive += 1\n",
      "\n",
      "print \"Error rate (false positive): %s\" % str(float(false_positive) / 19000)\n"
     ],
     "language": "python",
     "metadata": {},
     "outputs": [
      {
       "output_type": "stream",
       "stream": "stdout",
       "text": [
        "Error rate (false positive): 0.105315789474\n"
       ]
      }
     ],
     "prompt_number": 55
    },
    {
     "cell_type": "markdown",
     "metadata": {},
     "source": [
      "* **Good**:\n",
      "    - Memory: $ M \\approx O\\left( n \\cdot k \\cdot log (error) \\right) $\n",
      "    - CPU: $ M \\approx O\\left( k \\right) $\n",
      "    - Intersection and Union possible by bitwise AND & OR\n",
      "\n",
      "\n",
      "* **Limitation**:\n",
      "    - False positive answer (no false negative): the BF will return a membership when there is not\n",
      "    - Can't retrieve data.\n",
      "    - Can't delete item (because of the hash collision) -> possible solution **Counting Bloom Filter**\n"
     ]
    },
    {
     "cell_type": "markdown",
     "metadata": {},
     "source": [
      "# Pattern: Have we met before ? (with ttl)\n",
      "\n",
      "Trigger an action when you see an item for the first in a given time period\n",
      "\n",
      "* Ex:\n",
      "    - Perform a expensive procesing each hours for each url\n",
      "    - New vs returning visitor (30 mins session)\n",
      "    - Any duplicate detection on **unbounded data stream** (and limited amount of memory)\n",
      "        - Filling ratio goes up, precision goes down\n",
      "   \n",
      "* Two choices:\n",
      "    - Landmark window (each hours of the day) -> easy: reset the bloom filter periodically \n",
      "    - Sliding window (last 30 mins) -> \"interesting\"\n",
      "    \n"
     ]
    },
    {
     "cell_type": "markdown",
     "metadata": {},
     "source": [
      "# Bloom Filter with expiration\n",
      "\n",
      "* Naive implementation\n",
      "    - Some magic combination of plain BF\n",
      "        - ex: rotating pool of BFs (good tech interview question !)\n",
      "    - ok, let store a timestamp instead of a bit: Time-Stamp Bloom Filter\n",
      "        - membership by comparing the new timestamp with the stored timestamp\n",
      "        - if non membership ($ts_2$ < $ts_1$) -> reset to zero\n"
     ]
    },
    {
     "cell_type": "code",
     "collapsed": false,
     "input": [
      "def mem_vs_errors_and_capacity(error=0.01, capacity=10000, bit_mul = 1):\n",
      "    nbr_slices = int(np.ceil(np.log2(1.0 / error)))\n",
      "    bits_per_slice = int(np.ceil((capacity * abs(np.log(error))) / (nbr_slices * (np.log(2) ** 2))))\n",
      "    mem = float(((nbr_slices*bits_per_slice) / (8))) / (1024 * 1024 * 1024) * bit_mul\n",
      "    return mem\n",
      "\n",
      "errors = [0.01,0.02,0.03,0.05]\n",
      "capacities = np.linspace(100,int(1E9))\n",
      "mems = np.zeros((len(errors), len(capacities)))\n",
      "\n",
      "for e,error in enumerate(errors):\n",
      "    for c,capacity in enumerate(capacities):\n",
      "        mems[e,c] = mem_vs_errors_and_capacity(error, capacity)\n",
      "\n",
      "for e,error in enumerate(errors):\n",
      "    plt.plot(capacities,mems[e])\n",
      "plt.grid(True)\n",
      "plt.legend([str(item) for item in errors], loc=0)\n",
      "plt.xlabel('Capacity')\n",
      "plt.ylabel('Memory Consumtion [Gb]')\n",
      "plt.title('Memory Consumption for a plain Bloom Filter')"
     ],
     "language": "python",
     "metadata": {},
     "outputs": [
      {
       "metadata": {},
       "output_type": "pyout",
       "prompt_number": 56,
       "text": [
        "<matplotlib.text.Text at 0x10893d850>"
       ]
      },
      {
       "metadata": {},
       "output_type": "display_data",
       "png": "[encoded data removed]",
       "text": [
        "<matplotlib.figure.Figure at 0x107a83590>"
       ]
      }
     ],
     "prompt_number": 56
    },
    {
     "cell_type": "code",
     "collapsed": false,
     "input": [
      "for e,error in enumerate(errors):\n",
      "    for c,capacity in enumerate(capacities):\n",
      "        mems[e,c] = mem_vs_errors_and_capacity(error, capacity, 64)\n",
      "\n",
      "for e,error in enumerate(errors):\n",
      "    plt.plot(capacities,mems[e])\n",
      "plt.grid(True)\n",
      "plt.legend([str(item) for item in errors], loc=0)\n",
      "plt.xlabel('Capacity')\n",
      "plt.ylabel('Memory Consumtion [Gb]')\n",
      "plt.title('Memory Consumption for a Bloom Filter (with timestamp)')"
     ],
     "language": "python",
     "metadata": {},
     "outputs": [
      {
       "metadata": {},
       "output_type": "pyout",
       "prompt_number": 57,
       "text": [
        "<matplotlib.text.Text at 0x1077d0350>"
       ]
      },
      {
       "metadata": {},
       "output_type": "display_data",
       "png": "[encoded data removed]",
       "text": [
        "<matplotlib.figure.Figure at 0x108578b10>"
       ]
      }
     ],
     "prompt_number": 57
    },
    {
     "cell_type": "markdown",
     "metadata": {},
     "source": [
      "## Do I really need the microsecond resolution ?"
     ]
    },
    {
     "cell_type": "code",
     "collapsed": false,
     "input": [
      "for e,error in enumerate(errors):\n",
      "    for c,capacity in enumerate(capacities):\n",
      "        mems[e,c] = mem_vs_errors_and_capacity(error, capacity, 6)\n",
      "\n",
      "for e,error in enumerate(errors):\n",
      "    plt.plot(capacities,mems[e])\n",
      "plt.grid(True)\n",
      "plt.legend([str(item) for item in errors], loc=0)\n",
      "plt.xlabel('Capacity')\n",
      "plt.ylabel('Memory Consumtion [Gb]')\n",
      "plt.title('Memory Consumption for a Bloom Filter (6 bits \"timestamp\")')"
     ],
     "language": "python",
     "metadata": {},
     "outputs": [
      {
       "metadata": {},
       "output_type": "pyout",
       "prompt_number": 58,
       "text": [
        "<matplotlib.text.Text at 0x10771d4d0>"
       ]
      },
      {
       "metadata": {},
       "output_type": "display_data",
       "png": "[encoded data removed]",
       "text": [
        "<matplotlib.figure.Figure at 0x10865ffd0>"
       ]
      }
     ],
     "prompt_number": 58
    },
    {
     "cell_type": "markdown",
     "metadata": {},
     "source": [
      "* Efficient way to use a low precision timestamp : Countdown"
     ]
    },
    {
     "cell_type": "markdown",
     "metadata": {},
     "source": [
      "# Countdown Bloom Filter\n",
      "\n",
      "* A Bloom Filter where each element leave the set after t time units:\n",
      "    1. We instantiate an array of small integer (counter) initialized with a fixed value *c* (ex: 255)\n",
      "    2. Each filter updates **reinitialized** this counter in the k positions\n",
      "    3. Membership if all k buckets are **non-zero**\n",
      "    4. With a certain **fixed frequency**, positions are slowly **decremented** (maintenance procedure).\n",
      "\n",
      "<center><img src=\"files/cdbf_array3.png\" width=\"600\"></center>\n",
      "\n",
      "* Maintenance procedure\n",
      "    - Ensures that items are **expired after t time units on average**.\n",
      "\n",
      "<center><img src=\"files/cdbf_maintenance.png\" width=\"600\"></center>\n",
      "\n",
      "    - Refresh period *s*:\n",
      "$$ s = \\frac{t}{M \\left( c - 1 + \\frac{1}{z \\cdot (k + 1)} \\right)} $$\n",
      "\n",
      "* **Good**:\n",
      "     - Memory usage: 4-8 bits  counter\n",
      "     - Can tweak expiration precision\n",
      "     - Good fit for high frequency stuff\n",
      "* **Limitation**:\n",
      "    - Addtional CPU and memory access overhead for the maintenance (memory vs cpu)\n",
      "    - False Positive and **False negative** (temporal error)\n",
      "    - Running the maintenance could be a pain\n",
      "    "
     ]
    },
    {
     "cell_type": "code",
     "collapsed": false,
     "input": [
      "from pds import CountdownBloomFilter"
     ],
     "language": "python",
     "metadata": {},
     "outputs": []
    },
    {
     "cell_type": "markdown",
     "metadata": {},
     "source": [
      "# Stable Bloom Filter (quick mention)\n",
      "\n",
      "* Counting Bloom Filter where we decrement some random positions periodically -> make room for fresh elements.\n",
      "* No precise TTL (?)"
     ]
    },
    {
     "cell_type": "markdown",
     "metadata": {},
     "source": [
      "# Pattern: First class only\n",
      "\n",
      "* Considere only the first class items\n",
      "* Ex:\n",
      "    - Increase the refresh rate of the most popular urls\n",
      "    - Detect active users\n",
      "    - More broadly : expensive Query / analysis"
     ]
    },
    {
     "cell_type": "code",
     "collapsed": false,
     "input": [
      "from collections import Counter # <== Probabilistic version of this"
     ],
     "language": "python",
     "metadata": {},
     "outputs": [],
     "prompt_number": 112
    },
    {
     "cell_type": "code",
     "collapsed": false,
     "input": [
      "urls = Counter()\n",
      "urls['foo'] += 2\n",
      "urls['bar'] += 100\n",
      "\n",
      "print urls"
     ],
     "language": "python",
     "metadata": {},
     "outputs": [
      {
       "output_type": "stream",
       "stream": "stdout",
       "text": [
        "Counter({'bar': 100, 'foo': 2})\n"
       ]
      }
     ],
     "prompt_number": 113
    },
    {
     "cell_type": "markdown",
     "metadata": {},
     "source": [
      "# Count-Min Sketch\n",
      "\n",
      "* Count items in a Multiset\n",
      "\n",
      "* Precedure:\n",
      "    1. We instantiate an array of small integer (**counter**) initialized to zero\n",
      "    2. Each filter updates **increment** the counter in the k positions\n",
      "    3. Get the count of each items -> **min()** values of the k positions\n",
      "\n",
      "<center><img src=\"files/cms_array.png\" width=\"600\"></center>\n",
      "\n",
      "* Almost identical to a Counting Bloom Filter\n",
      "    - But here we want to control the precision differently\n",
      "    - No simple error rate\n",
      "    - What is the error on the estimate of the items count ?\n",
      "    - Two parameters $\\epsilon$ and $\\delta$: ex: $\\epsilon=1E-3$ and $\\delta=0.01$\n",
      "    - For **m events** seen in the stream, the upper bound error is on the estimate $f_i'$:\n",
      "    - if count << m -> large rel. error\n",
      "    \n",
      "     $ k = log \\left( \\frac{1}{\\epsilon} \\right) $\n",
      "\n",
      "     $ n = \\frac{e^1}{\\delta} $\n",
      "     \n",
      "     $ Pr[f_i' <= f_i + \\epsilon m] >= 1 -\\delta $\n",
      "     \n",
      "     \n",
      "    - In English: there 99% chance that estimate <= real estimate + some error\n",
      " \n",
      "\n",
      "* Work well for skewed distribution\n",
      "* Point Query : Single frequency of a single value ($f_i$)\n",
      "* Range Query ($\\sum\\limits_{i=1}^r{f_i}$):\n",
      "    - Sum of the estimate for a range of value\n",
      "    - For small ranges, the range sum can be estimated as a sum of point queries; however, **as the range grows, the error in this approach also grows linearly**.\n",
      "    - Use a set of CMS instead: log(m) CMS using dyadic interval"
     ]
    },
    {
     "cell_type": "code",
     "collapsed": false,
     "input": [
      "s = np.random.zipf(2.0, 10000)\n",
      "skew_dist = ((s/float(max(s)))*1000).astype(np.int)\n",
      "count, bins, ignored = plt.hist(skew_dist[skew_dist<50], 50)\n",
      "plt.grid(True)\n",
      "plt.show()"
     ],
     "language": "python",
     "metadata": {},
     "outputs": [
      {
       "metadata": {},
       "output_type": "display_data",
       "png": "[encoded data removed]",
       "text": [
        "<matplotlib.figure.Figure at 0x108b29090>"
       ]
      }
     ],
     "prompt_number": 109
    },
    {
     "cell_type": "code",
     "collapsed": false,
     "input": [
      "class CountMinSketch(object):\n",
      "    \"\"\" Basic Count-Min Sketch \"\"\"\n",
      "\n",
      "    def __init__(self, delta, epsilon):\n",
      "        self.bits_per_slice = int(np.ceil(np.exp(1) / epsilon))\n",
      "        self.nbr_slices = int(np.ceil(np.log(1 / delta)))\n",
      "        self.bitarray = np.zeros((self.nbr_slices, self.bits_per_slice), dtype=np.int32)\n",
      "        self.make_hashes = generate_hashfunctions(self.bits_per_slice, self.nbr_slices)\n",
      "\n",
      "    def update(self, key, increment):\n",
      "        for row, column in enumerate(self.make_hashes(key)):\n",
      "            self.bitarray[int(row), int(column)] += increment\n",
      "\n",
      "    def get(self, key):\n",
      "        value = sys.maxint\n",
      "        for row, column in enumerate(self.make_hashes(key)):\n",
      "            value = min(self.bitarray[row, column], value)\n",
      "        return value\n"
     ],
     "language": "python",
     "metadata": {},
     "outputs": [],
     "prompt_number": 96
    },
    {
     "cell_type": "code",
     "collapsed": false,
     "input": [
      "import random\n",
      "\n",
      "cms = CountMinSketch(1E-1, 0.03)\n",
      "\n",
      "# Create a fake randomized stream for n occurences of str(n)\n",
      "stream = []\n",
      "for i in range(100):\n",
      "    stream = stream + [str(i)] * i\n",
      "random.shuffle(stream)\n",
      "\n",
      "for s in stream:\n",
      "    p = cms.update(s,1)"
     ],
     "language": "python",
     "metadata": {},
     "outputs": [],
     "prompt_number": 97
    },
    {
     "cell_type": "code",
     "collapsed": false,
     "input": [
      "cms.get('1')"
     ],
     "language": "python",
     "metadata": {},
     "outputs": [
      {
       "metadata": {},
       "output_type": "pyout",
       "prompt_number": 98,
       "text": [
        "1"
       ]
      }
     ],
     "prompt_number": 98
    },
    {
     "cell_type": "code",
     "collapsed": false,
     "input": [
      "cms.get('19')"
     ],
     "language": "python",
     "metadata": {},
     "outputs": [
      {
       "metadata": {},
       "output_type": "pyout",
       "prompt_number": 102,
       "text": [
        "19"
       ]
      }
     ],
     "prompt_number": 102
    },
    {
     "cell_type": "markdown",
     "metadata": {},
     "source": [
      "* **Good**:\n",
      "    - Keep track of the frequency of the top items\n",
      "* **Limitation**:\n",
      "    - Work ok for skew distribution\n",
      "\n",
      "* Cool use case:\n",
      "    - Keep track of the top-N items using (count-min sketch + heap)\n",
      "    - q-Quantile on a stream (set of count-min sketch counter)"
     ]
    },
    {
     "cell_type": "markdown",
     "metadata": {},
     "source": [
      "# Pattern: Uniques items\n",
      "\n",
      "* Ex:\n",
      "    - Number of uniques visitors on a site, post or section (with union)\n",
      "    \n",
      "* Only cardinality, No membership, No content\n",
      "* => Proabilistic counting (Hyperloglog)\n",
      "* observable in the bitpattern of the hash"
     ]
    },
    {
     "cell_type": "markdown",
     "metadata": {},
     "source": [
      "# Let's flip some coins\n",
      "\n",
      "* Longest Run in the coin tossing experiment:\n",
      "    - If I **flip a coin n time**, what is the probability P to have the Rn consecutive heads ?\n",
      "    - independent Bernoulli trials, (q=0.5), if **n is large**:\n",
      "    - expected value of longuest consecutive heads : $ R_n \\approx log_{1/q} (nq) $\n"
     ]
    },
    {
     "cell_type": "code",
     "collapsed": false,
     "input": [
      "import pandas as pd\n",
      "\n",
      "ns = [50,200,1000,1E4,1E5,1E6]\n",
      "\n",
      "def Rn(n,q):\n",
      "    return int(round(np.log2(n*q)))"
     ],
     "language": "python",
     "metadata": {},
     "outputs": [],
     "prompt_number": 64
    },
    {
     "cell_type": "markdown",
     "metadata": {},
     "source": [
      "We can have an approximation of the distribution by using an *extreme value distribution*:"
     ]
    },
    {
     "cell_type": "code",
     "collapsed": false,
     "input": [
      "def prob_longest(a, b, n, p):\n",
      "    r = Rn(n,1-p)\n",
      "    cdf = lambda x: np.exp(- p**x )\n",
      "    return cdf(b + 1 - r) - cdf(a - r)"
     ],
     "language": "python",
     "metadata": {},
     "outputs": [],
     "prompt_number": 65
    },
    {
     "cell_type": "markdown",
     "metadata": {},
     "source": [
      "For example, for 1000 coin flips (n=1000, p=0.5 for a fair coin), the probability of having a longest run of 10 is 27%:"
     ]
    },
    {
     "cell_type": "code",
     "collapsed": false,
     "input": [
      "prob_longest(10,11,1000,0.5)"
     ],
     "language": "python",
     "metadata": {},
     "outputs": [
      {
       "metadata": {},
       "output_type": "pyout",
       "prompt_number": 66,
       "text": [
        "0.27596624287196203"
       ]
      }
     ],
     "prompt_number": 66
    },
    {
     "cell_type": "markdown",
     "metadata": {},
     "source": [
      "## The longuest runs distribution will looks like"
     ]
    },
    {
     "cell_type": "code",
     "collapsed": false,
     "input": [
      "ns = range(1,30)\n",
      "ps_50 = pd.Series([prob_longest(ns[i],ns[i+1], 50, 0.5) for i in ns[:-2]])\n",
      "ps_50.plot(kind='bar')"
     ],
     "language": "python",
     "metadata": {},
     "outputs": [
      {
       "metadata": {},
       "output_type": "pyout",
       "prompt_number": 67,
       "text": [
        "<matplotlib.axes.AxesSubplot at 0x107680710>"
       ]
      },
      {
       "metadata": {},
       "output_type": "display_data",
       "png": "[encoded data removed]",
       "text": [
        "<matplotlib.figure.Figure at 0x1086535d0>"
       ]
      }
     ],
     "prompt_number": 67
    },
    {
     "cell_type": "code",
     "collapsed": false,
     "input": [
      "ps_200 = pd.Series([prob_longest(ns[i],ns[i+1], 200, 0.5) for i in ns[:-2]])\n",
      "ps_200.plot(kind='bar')"
     ],
     "language": "python",
     "metadata": {},
     "outputs": [
      {
       "metadata": {},
       "output_type": "pyout",
       "prompt_number": 68,
       "text": [
        "<matplotlib.axes.AxesSubplot at 0x1077a8610>"
       ]
      },
      {
       "metadata": {},
       "output_type": "display_data",
       "png": "[encoded data removed]",
       "text": [
        "<matplotlib.figure.Figure at 0x1077a4910>"
       ]
      }
     ],
     "prompt_number": 68
    },
    {
     "cell_type": "code",
     "collapsed": false,
     "input": [
      "ps_100k = pd.Series([prob_longest(ns[i],ns[i+1], 1E6, 0.5) for i in ns[:-2]])\n",
      "ps_100k.plot(kind='bar')"
     ],
     "language": "python",
     "metadata": {},
     "outputs": [
      {
       "metadata": {},
       "output_type": "pyout",
       "prompt_number": 69,
       "text": [
        "<matplotlib.axes.AxesSubplot at 0x107906210>"
       ]
      },
      {
       "metadata": {},
       "output_type": "display_data",
       "png": "[encoded data removed]",
       "text": [
        "<matplotlib.figure.Figure at 0x107a59990>"
       ]
      }
     ],
     "prompt_number": 69
    },
    {
     "cell_type": "markdown",
     "metadata": {},
     "source": [
      "* length of the longest run shift towards larger value at a rate $\\propto$ log()\n",
      "\n",
      "* By looking at the longuest run we can now estimate n simply using $n\\approx (1/q) \\cdot {2^{R_n}}$.\n",
      "\n",
      "* The **Hyperloglog** : Estimate the cardinality by counting the longest sequence on zero in hashed input stream"
     ]
    },
    {
     "cell_type": "markdown",
     "metadata": {},
     "source": [
      "# Hyperloglog\n",
      "\n",
      "* In the simple flipping coin the observables use to estimate the cardinality is **longuest sequence on zero**\n",
      "* In Hyperloglog we use a differente observable: bit-pattern $ O^{\\rho-1}1$\n",
      "* Evaluate this pattern is very fast -> least signifiant bit\n",
      "* Cardinality : $\\sim 2^\\rho.$\n",
      "* More precision: m experiments (hash functions) instead of 1\n",
      "* We can emulate m experiment using *stochastic averaging*\n",
      "* Error rate: $\\frac{1.04}{\\sqrt{m}}$\n",
      "* Cardinality is estimate using the average (harmonic mean) of $\\rho$\n",
      "\n",
      "** Longuest run **\n",
      "\n",
      "<center><img src=\"files/longuest_run.png\" width=\"600\"></center>\n",
      "\n",
      "** bit-pattern $ O^{\\rho-1}1$ **\n",
      "<center><img src=\"files/hll_bitpattern.png\" width=\"600\"></center>\n",
      "\n",
      "** bit-pattern $ O^{\\rho-1}1$ with stochastics averaging with 32 registers**\n",
      "<center><img src=\"files/hll_bitpatttern_stoch_avg.png\" width=\"600\"></center>\n",
      "\n",
      "* ** Good** :\n",
      "    - Really efficient memory usage: \"All the uniques\" of one the bigger publisher in US: **2kB** (2.5% error)\n",
      "    - Union\n",
      "* **Limitation**:\n",
      "    - Only query for cardinality\n",
      "    - Intersection not really possible (with a predictable error)\n"
     ]
    },
    {
     "cell_type": "code",
     "collapsed": false,
     "input": [],
     "language": "python",
     "metadata": {},
     "outputs": [],
     "prompt_number": 69
    }
   ],
   "metadata": {}
  }
 ]
}